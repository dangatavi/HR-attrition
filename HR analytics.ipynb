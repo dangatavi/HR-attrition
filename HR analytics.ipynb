{
 "cells": [
  {
   "cell_type": "code",
   "execution_count": 3,
   "id": "38f0ee99",
   "metadata": {},
   "outputs": [],
   "source": [
    "import numpy as np\n",
    "import pandas as pd"
   ]
  },
  {
   "cell_type": "code",
   "execution_count": 8,
   "id": "eaa0e468",
   "metadata": {},
   "outputs": [],
   "source": [
    "HR16_17 = pd.read_excel('staff utlz latest 16-17_masked.xlsx')  #utilization data 2016 to 2017\n",
    "HR17_18 = pd.read_excel('staff utlz latest 17-18_masked.xlsx')  #utilization data 2017 to 2018\n",
    "TD15_18 = pd.read_excel('Terminations 15-18.xlsx')              #termination data from 2015 to 2018"
   ]
  },
  {
   "cell_type": "code",
   "execution_count": null,
   "id": "82db78e1",
   "metadata": {},
   "outputs": [],
   "source": []
  },
  {
   "cell_type": "code",
   "execution_count": null,
   "id": "53498b01",
   "metadata": {},
   "outputs": [],
   "source": []
  },
  {
   "cell_type": "code",
   "execution_count": null,
   "id": "609d9210",
   "metadata": {},
   "outputs": [],
   "source": []
  }
 ],
 "metadata": {
  "kernelspec": {
   "display_name": "Python 3",
   "language": "python",
   "name": "python3"
  },
  "language_info": {
   "codemirror_mode": {
    "name": "ipython",
    "version": 3
   },
   "file_extension": ".py",
   "mimetype": "text/x-python",
   "name": "python",
   "nbconvert_exporter": "python",
   "pygments_lexer": "ipython3",
   "version": "3.8.8"
  }
 },
 "nbformat": 4,
 "nbformat_minor": 5
}
